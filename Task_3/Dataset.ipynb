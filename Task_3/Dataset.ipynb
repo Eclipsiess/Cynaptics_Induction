{
  "cells": [
    {
      "cell_type": "code",
      "execution_count": 1,
      "metadata": {
        "colab": {
          "base_uri": "https://localhost:8080/"
        },
        "id": "4PaUknBQ3AgD",
        "outputId": "f2aba5ea-2b81-40cd-e985-ab1f0ff4b1c8"
      },
      "outputs": [
        {
          "name": "stdout",
          "output_type": "stream",
          "text": [
            "Requirement already satisfied: datasets in /opt/anaconda3/envs/dsenv/lib/python3.10/site-packages (3.2.0)\n",
            "Requirement already satisfied: filelock in /opt/anaconda3/envs/dsenv/lib/python3.10/site-packages (from datasets) (3.16.1)\n",
            "Requirement already satisfied: numpy>=1.17 in /opt/anaconda3/envs/dsenv/lib/python3.10/site-packages (from datasets) (1.23.5)\n",
            "Requirement already satisfied: pyarrow>=15.0.0 in /opt/anaconda3/envs/dsenv/lib/python3.10/site-packages (from datasets) (18.1.0)\n",
            "Requirement already satisfied: dill<0.3.9,>=0.3.0 in /opt/anaconda3/envs/dsenv/lib/python3.10/site-packages (from datasets) (0.3.8)\n",
            "Requirement already satisfied: pandas in /opt/anaconda3/envs/dsenv/lib/python3.10/site-packages (from datasets) (2.2.3)\n",
            "Requirement already satisfied: requests>=2.32.2 in /opt/anaconda3/envs/dsenv/lib/python3.10/site-packages (from datasets) (2.32.3)\n",
            "Requirement already satisfied: tqdm>=4.66.3 in /opt/anaconda3/envs/dsenv/lib/python3.10/site-packages (from datasets) (4.67.0)\n",
            "Requirement already satisfied: xxhash in /opt/anaconda3/envs/dsenv/lib/python3.10/site-packages (from datasets) (3.5.0)\n",
            "Requirement already satisfied: multiprocess<0.70.17 in /opt/anaconda3/envs/dsenv/lib/python3.10/site-packages (from datasets) (0.70.16)\n",
            "Requirement already satisfied: fsspec<=2024.9.0,>=2023.1.0 in /opt/anaconda3/envs/dsenv/lib/python3.10/site-packages (from fsspec[http]<=2024.9.0,>=2023.1.0->datasets) (2024.9.0)\n",
            "Requirement already satisfied: aiohttp in /opt/anaconda3/envs/dsenv/lib/python3.10/site-packages (from datasets) (3.11.10)\n",
            "Requirement already satisfied: huggingface-hub>=0.23.0 in /opt/anaconda3/envs/dsenv/lib/python3.10/site-packages (from datasets) (0.27.1)\n",
            "Requirement already satisfied: packaging in /opt/anaconda3/envs/dsenv/lib/python3.10/site-packages (from datasets) (24.2)\n",
            "Requirement already satisfied: pyyaml>=5.1 in /opt/anaconda3/envs/dsenv/lib/python3.10/site-packages (from datasets) (6.0.2)\n",
            "Requirement already satisfied: aiohappyeyeballs>=2.3.0 in /opt/anaconda3/envs/dsenv/lib/python3.10/site-packages (from aiohttp->datasets) (2.4.4)\n",
            "Requirement already satisfied: aiosignal>=1.1.2 in /opt/anaconda3/envs/dsenv/lib/python3.10/site-packages (from aiohttp->datasets) (1.2.0)\n",
            "Requirement already satisfied: attrs>=17.3.0 in /opt/anaconda3/envs/dsenv/lib/python3.10/site-packages (from aiohttp->datasets) (24.3.0)\n",
            "Requirement already satisfied: frozenlist>=1.1.1 in /opt/anaconda3/envs/dsenv/lib/python3.10/site-packages (from aiohttp->datasets) (1.5.0)\n",
            "Requirement already satisfied: multidict<7.0,>=4.5 in /opt/anaconda3/envs/dsenv/lib/python3.10/site-packages (from aiohttp->datasets) (6.1.0)\n",
            "Requirement already satisfied: propcache>=0.2.0 in /opt/anaconda3/envs/dsenv/lib/python3.10/site-packages (from aiohttp->datasets) (0.2.0)\n",
            "Requirement already satisfied: yarl<2.0,>=1.17.0 in /opt/anaconda3/envs/dsenv/lib/python3.10/site-packages (from aiohttp->datasets) (1.18.0)\n",
            "Requirement already satisfied: async-timeout<6.0,>=4.0 in /opt/anaconda3/envs/dsenv/lib/python3.10/site-packages (from aiohttp->datasets) (5.0.1)\n",
            "Requirement already satisfied: typing-extensions>=3.7.4.3 in /opt/anaconda3/envs/dsenv/lib/python3.10/site-packages (from huggingface-hub>=0.23.0->datasets) (4.12.2)\n",
            "Requirement already satisfied: charset-normalizer<4,>=2 in /opt/anaconda3/envs/dsenv/lib/python3.10/site-packages (from requests>=2.32.2->datasets) (3.3.2)\n",
            "Requirement already satisfied: idna<4,>=2.5 in /opt/anaconda3/envs/dsenv/lib/python3.10/site-packages (from requests>=2.32.2->datasets) (3.10)\n",
            "Requirement already satisfied: urllib3<3,>=1.21.1 in /opt/anaconda3/envs/dsenv/lib/python3.10/site-packages (from requests>=2.32.2->datasets) (2.2.3)\n",
            "Requirement already satisfied: certifi>=2017.4.17 in /opt/anaconda3/envs/dsenv/lib/python3.10/site-packages (from requests>=2.32.2->datasets) (2024.12.14)\n",
            "Requirement already satisfied: python-dateutil>=2.8.2 in /opt/anaconda3/envs/dsenv/lib/python3.10/site-packages (from pandas->datasets) (2.9.0.post0)\n",
            "Requirement already satisfied: pytz>=2020.1 in /opt/anaconda3/envs/dsenv/lib/python3.10/site-packages (from pandas->datasets) (2024.2)\n",
            "Requirement already satisfied: tzdata>=2022.7 in /opt/anaconda3/envs/dsenv/lib/python3.10/site-packages (from pandas->datasets) (2024.2)\n",
            "Requirement already satisfied: six>=1.5 in /opt/anaconda3/envs/dsenv/lib/python3.10/site-packages (from python-dateutil>=2.8.2->pandas->datasets) (1.16.0)\n"
          ]
        }
      ],
      "source": [
        "!pip install datasets"
      ]
    },
    {
      "cell_type": "code",
      "execution_count": 2,
      "metadata": {
        "colab": {
          "base_uri": "https://localhost:8080/"
        },
        "id": "xkZc_qMq2vh_",
        "outputId": "4b746a6c-41f2-415d-bbbc-6e4ac4524b11"
      },
      "outputs": [
        {
          "data": {
            "application/vnd.jupyter.widget-view+json": {
              "model_id": "9a6e2d9e558d4dbf82314e213c821338",
              "version_major": 2,
              "version_minor": 0
            },
            "text/plain": [
              "README.md:   0%|          | 0.00/1.34k [00:00<?, ?B/s]"
            ]
          },
          "metadata": {},
          "output_type": "display_data"
        },
        {
          "data": {
            "application/vnd.jupyter.widget-view+json": {
              "model_id": "e8551cf3be6d400d9aff86233644800b",
              "version_major": 2,
              "version_minor": 0
            },
            "text/plain": [
              "train-00000-of-00001.parquet:   0%|          | 0.00/11.8M [00:00<?, ?B/s]"
            ]
          },
          "metadata": {},
          "output_type": "display_data"
        },
        {
          "data": {
            "application/vnd.jupyter.widget-view+json": {
              "model_id": "21c4d283e773454a8667618b74654067",
              "version_major": 2,
              "version_minor": 0
            },
            "text/plain": [
              "Generating train split:   0%|          | 0/20000 [00:00<?, ? examples/s]"
            ]
          },
          "metadata": {},
          "output_type": "display_data"
        },
        {
          "data": {
            "text/plain": [
              "DatasetDict({\n",
              "    train: Dataset({\n",
              "        features: ['conv_id', 'persona_b', 'dialogue', 'reference', '__index_level_0__'],\n",
              "        num_rows: 20000\n",
              "    })\n",
              "})"
            ]
          },
          "execution_count": 2,
          "metadata": {},
          "output_type": "execute_result"
        }
      ],
      "source": [
        "from datasets import load_dataset\n",
        "import pandas as pd\n",
        "import re\n",
        "\n",
        "ds = load_dataset(\"Cynaptics/persona-chat\")\n",
        "ds"
      ]
    },
    {
      "cell_type": "code",
      "execution_count": 3,
      "metadata": {
        "colab": {
          "base_uri": "https://localhost:8080/",
          "height": 917
        },
        "id": "k5Pc_TRk28tg",
        "outputId": "ac4d1deb-725c-4e3d-bdec-be81daf3fa0b"
      },
      "outputs": [
        {
          "data": {
            "text/html": [
              "<div>\n",
              "<style scoped>\n",
              "    .dataframe tbody tr th:only-of-type {\n",
              "        vertical-align: middle;\n",
              "    }\n",
              "\n",
              "    .dataframe tbody tr th {\n",
              "        vertical-align: top;\n",
              "    }\n",
              "\n",
              "    .dataframe thead th {\n",
              "        text-align: right;\n",
              "    }\n",
              "</style>\n",
              "<table border=\"1\" class=\"dataframe\">\n",
              "  <thead>\n",
              "    <tr style=\"text-align: right;\">\n",
              "      <th></th>\n",
              "      <th>persona_b</th>\n",
              "      <th>dialogue</th>\n",
              "      <th>reference</th>\n",
              "    </tr>\n",
              "  </thead>\n",
              "  <tbody>\n",
              "    <tr>\n",
              "      <th>0</th>\n",
              "      <td>[I would love to try the local food with my friend., i am quiet but confident., I love to watch movies with my dad on a rainy day., i try to limit how much i eat., I just finished practicing my bass guitar in the lifeguard station.]</td>\n",
              "      <td>[Persona A: Hey there!, Persona B: What's your name?, Persona A: My name is William., Persona B: Nice to meet you Gavin. What kind of movies do you like to watch?, Persona A: I like to watch movies that make me feel something. I like to be able to relate to the characters and feel their emotions., Persona B: I can relate to that. I like to watch movies that make me think about things in a different way., Persona A: That's a good way to put it. I like to be challenged by movies., Persona B: What are some of your favorite movies?, Persona A: I have a lot of favorite movies, but some of my favorites include \"The Shawshank Redemption,\" \"The Godfather,\" and \"The Lord of the Rings.\", Persona B: Those are all great movies! I love \"The Shawshank Redemption\" too. It's one of my favorites., Persona A: It's so well-made and has such a great story. I love it when movies can make you feel so many different emotions., Persona B: Me too. I think that's what makes a great movie., Persona A: I agree. So what do you like to do for fun?, Persona B: I like to spend time with my family and friends. I also like to read, watch movies, and go to the gym., Persona A: Sounds like you have a lot of interests. I like to spend time with my friends and family too. I also like to play the bass guitar., Persona B: That's cool! I've always wanted to learn how to play the bass guitar., Persona A: No problem! It was nice talking to you.]</td>\n",
              "      <td>I might just do that. Thanks for the suggestion!</td>\n",
              "    </tr>\n",
              "    <tr>\n",
              "      <th>1</th>\n",
              "      <td>[I am most proud of my ability to connect with nature and animals., I have never been arrested, but my stories might make you think otherwise., i love family time., my parents both are school teachers., I'm afraid of being in a situation where I can't communicate with my wife.]</td>\n",
              "      <td>[Persona A: I run every morning before work, it helps me to relieve stress., Persona B: I can see how that would help:,I do much hiking and camping; it helps me to clear my heade's up with nature., Persona A: That sounds like a lot of fun and I've always wanted to go camping!, Persona B: It is really great and you should definitely try it sometime., Persona A: I will, as to my dogs - it would be lovely., Persona B: I bet he would. Also, we have dogs and his love goes camping with me, Persona A: What kind of dog do you have?]</td>\n",
              "      <td>I have a Golden Retriever named Buddy.</td>\n",
              "    </tr>\n",
              "    <tr>\n",
              "      <th>2</th>\n",
              "      <td>[I enjoy my family and do not care about socializing., i m bored with my current lifestyle., i currently suffer from social anxiety., I exercise three times a week to maintain a healthy lifestyle., I'm looking for a home with a large closet so I can have plenty of space for my sewing supplies.]</td>\n",
              "      <td>[Persona A: Hey, not too much but I am just working on some pottery., Persona B: That sounds cool - I have never tried pottery before!, Persona A: It is really fun! I love to make things with my hands., Persona B: I know what you mean, but it is always fun to sew., Persona A: That's awesome! I used to sew a lot when younger., Persona B: I like to make clothes for my family., Persona A: That is a great hobby Do you sell it?, Persona B: No, I do it just for fun., Persona A: That's cool, and I am more into making functional things like bowled vases., Persona B: I have a lot of clothes that my family needs to sew., Persona A: That sounds like a lot of work!, Persona B: It is, but I like it., Persona A: I am glad that you are enjoying your hobby!, Persona B: Thank you!, Persona A: Thats what it says., Persona B: Do you have any other hobbies?, Persona A: I like to go out on a social way for eating and hanging with my friends., Persona B: That sounds fun, I'm more of homebody., Persona A: I can be too, but sometimes i like to get out and explore., Persona B: I like to explore new places, but don't always enjoy being around a lot of people., Persona A: I understand that :I like to go places where there aren't as many people.]</td>\n",
              "      <td>That's my kind of place!</td>\n",
              "    </tr>\n",
              "    <tr>\n",
              "      <th>3</th>\n",
              "      <td>[I will continue to play music with my friends to help relieve stress and enjoy myself., I try to keep in touch with my family, but I can be busy with school and my job., i enjoy cooking but not baking., i can speak arabic , english , and french., My biggest fear is that I will work myself up so much that I will become ill.]</td>\n",
              "      <td>[Persona A: I'm from Japan, so my plans are moving soon to the US and it is a little nervous but exciting!, Persona B: I'm from the US but speak Arabic, English and French. Where are you?, Persona A: I want to be a musician, and play drums and love punk rock.I'm going working as doorman in an old club where they play the nightly pop rock, Persona B: That is great! What are your dreams?, Persona A: Thanks! I am nervous about my family not accepting me if they tell them that to say is gay, but will try and inform them., Persona B: I play music with my friends to help relieve stress and relax, so...I am glad that you are living up the dreams!, Persona A: Hope you're right and thanks for meeting me : it is nice to meet!]</td>\n",
              "      <td>It was nice to meet you too! Good luck with your move and music career!!</td>\n",
              "    </tr>\n",
              "    <tr>\n",
              "      <th>4</th>\n",
              "      <td>[I like to wear the same pants every day so I don't have to think about what to wear., I enjoy helping my community by serving on the city council., i love the rain., I like mangoes because they are sweet and juicy., my favorite basketball team is the vancouver grizzlies.]</td>\n",
              "      <td>[Persona A: Good morning!, Persona B: Good morning! How are you doing today?, Persona A: I'm doing well, thank you for asking. Just finished baking a batch of chocolate chip cookies to my family!, Persona B: I love Chocolate Chip Cookies. What's your favorite cookie?, Persona A: I also like white chocolate macadamian nut cookies., Persona B: Those are delicious! I also like snickerdoodle., Persona A: Snickerdoodles are great, I love the cinnamon flavour., Persona B: I actually love all kinds of cookies too!, Persona A:  Same here! They are so tasty and versatile.]</td>\n",
              "      <td>What is your favorite thing to do on a rainy day?</td>\n",
              "    </tr>\n",
              "  </tbody>\n",
              "</table>\n",
              "</div>"
            ],
            "text/plain": [
              "                                                                                                                                                                                                                                                                                                                                persona_b  \\\n",
              "0                                                                                                [I would love to try the local food with my friend., i am quiet but confident., I love to watch movies with my dad on a rainy day., i try to limit how much i eat., I just finished practicing my bass guitar in the lifeguard station.]   \n",
              "1                                                  [I am most proud of my ability to connect with nature and animals., I have never been arrested, but my stories might make you think otherwise., i love family time., my parents both are school teachers., I'm afraid of being in a situation where I can't communicate with my wife.]   \n",
              "2                                 [I enjoy my family and do not care about socializing., i m bored with my current lifestyle., i currently suffer from social anxiety., I exercise three times a week to maintain a healthy lifestyle., I'm looking for a home with a large closet so I can have plenty of space for my sewing supplies.]   \n",
              "3  [I will continue to play music with my friends to help relieve stress and enjoy myself., I try to keep in touch with my family, but I can be busy with school and my job., i enjoy cooking but not baking., i can speak arabic , english , and french., My biggest fear is that I will work myself up so much that I will become ill.]   \n",
              "4                                                       [I like to wear the same pants every day so I don't have to think about what to wear., I enjoy helping my community by serving on the city council., i love the rain., I like mangoes because they are sweet and juicy., my favorite basketball team is the vancouver grizzlies.]   \n",
              "\n",
              "                                                                                                                                                                                                                                                                                                                                                                                                                                                                                                                                                                                                                                                                                                                                                                                                                                                                                                                                                                                                                                                                                                                                                                                                                                                                                                                                                                                                                                                                             dialogue  \\\n",
              "0  [Persona A: Hey there!, Persona B: What's your name?, Persona A: My name is William., Persona B: Nice to meet you Gavin. What kind of movies do you like to watch?, Persona A: I like to watch movies that make me feel something. I like to be able to relate to the characters and feel their emotions., Persona B: I can relate to that. I like to watch movies that make me think about things in a different way., Persona A: That's a good way to put it. I like to be challenged by movies., Persona B: What are some of your favorite movies?, Persona A: I have a lot of favorite movies, but some of my favorites include \"The Shawshank Redemption,\" \"The Godfather,\" and \"The Lord of the Rings.\", Persona B: Those are all great movies! I love \"The Shawshank Redemption\" too. It's one of my favorites., Persona A: It's so well-made and has such a great story. I love it when movies can make you feel so many different emotions., Persona B: Me too. I think that's what makes a great movie., Persona A: I agree. So what do you like to do for fun?, Persona B: I like to spend time with my family and friends. I also like to read, watch movies, and go to the gym., Persona A: Sounds like you have a lot of interests. I like to spend time with my friends and family too. I also like to play the bass guitar., Persona B: That's cool! I've always wanted to learn how to play the bass guitar., Persona A: No problem! It was nice talking to you.]   \n",
              "1                                                                                                                                                                                                                                                                                                                                                                                                                                                                                                                                                                                                                                                                                                                                                                                                                                                                                                                                  [Persona A: I run every morning before work, it helps me to relieve stress., Persona B: I can see how that would help:,I do much hiking and camping; it helps me to clear my heade's up with nature., Persona A: That sounds like a lot of fun and I've always wanted to go camping!, Persona B: It is really great and you should definitely try it sometime., Persona A: I will, as to my dogs - it would be lovely., Persona B: I bet he would. Also, we have dogs and his love goes camping with me, Persona A: What kind of dog do you have?]   \n",
              "2                                                                                                                                                                                              [Persona A: Hey, not too much but I am just working on some pottery., Persona B: That sounds cool - I have never tried pottery before!, Persona A: It is really fun! I love to make things with my hands., Persona B: I know what you mean, but it is always fun to sew., Persona A: That's awesome! I used to sew a lot when younger., Persona B: I like to make clothes for my family., Persona A: That is a great hobby Do you sell it?, Persona B: No, I do it just for fun., Persona A: That's cool, and I am more into making functional things like bowled vases., Persona B: I have a lot of clothes that my family needs to sew., Persona A: That sounds like a lot of work!, Persona B: It is, but I like it., Persona A: I am glad that you are enjoying your hobby!, Persona B: Thank you!, Persona A: Thats what it says., Persona B: Do you have any other hobbies?, Persona A: I like to go out on a social way for eating and hanging with my friends., Persona B: That sounds fun, I'm more of homebody., Persona A: I can be too, but sometimes i like to get out and explore., Persona B: I like to explore new places, but don't always enjoy being around a lot of people., Persona A: I understand that :I like to go places where there aren't as many people.]   \n",
              "3                                                                                                                                                                                                                                                                                                                                                                                                                                                                                                                                                                                                                                                                                                                              [Persona A: I'm from Japan, so my plans are moving soon to the US and it is a little nervous but exciting!, Persona B: I'm from the US but speak Arabic, English and French. Where are you?, Persona A: I want to be a musician, and play drums and love punk rock.I'm going working as doorman in an old club where they play the nightly pop rock, Persona B: That is great! What are your dreams?, Persona A: Thanks! I am nervous about my family not accepting me if they tell them that to say is gay, but will try and inform them., Persona B: I play music with my friends to help relieve stress and relax, so...I am glad that you are living up the dreams!, Persona A: Hope you're right and thanks for meeting me : it is nice to meet!]   \n",
              "4                                                                                                                                                                                                                                                                                                                                                                                                                                                                                                                                                                                                                                                                                                                                                                                                                                                                                          [Persona A: Good morning!, Persona B: Good morning! How are you doing today?, Persona A: I'm doing well, thank you for asking. Just finished baking a batch of chocolate chip cookies to my family!, Persona B: I love Chocolate Chip Cookies. What's your favorite cookie?, Persona A: I also like white chocolate macadamian nut cookies., Persona B: Those are delicious! I also like snickerdoodle., Persona A: Snickerdoodles are great, I love the cinnamon flavour., Persona B: I actually love all kinds of cookies too!, Persona A:  Same here! They are so tasty and versatile.]   \n",
              "\n",
              "                                                                  reference  \n",
              "0                          I might just do that. Thanks for the suggestion!  \n",
              "1                                    I have a Golden Retriever named Buddy.  \n",
              "2                                                  That's my kind of place!  \n",
              "3  It was nice to meet you too! Good luck with your move and music career!!  \n",
              "4                         What is your favorite thing to do on a rainy day?  "
            ]
          },
          "execution_count": 3,
          "metadata": {},
          "output_type": "execute_result"
        }
      ],
      "source": [
        "df = pd.DataFrame(ds['train'])\n",
        "\n",
        "pd.set_option('display.max_colwidth', None)\n",
        "df.drop(labels = ['conv_id','__index_level_0__'], axis = 1, inplace= True)\n",
        "\n",
        "df.head()"
      ]
    },
    {
      "cell_type": "code",
      "execution_count": 4,
      "metadata": {
        "colab": {
          "base_uri": "https://localhost:8080/",
          "height": 917
        },
        "id": "MaWgiP2p89v8",
        "outputId": "8c079481-cdb7-4580-c7c4-dcfe7ef0498f"
      },
      "outputs": [
        {
          "data": {
            "text/html": [
              "<div>\n",
              "<style scoped>\n",
              "    .dataframe tbody tr th:only-of-type {\n",
              "        vertical-align: middle;\n",
              "    }\n",
              "\n",
              "    .dataframe tbody tr th {\n",
              "        vertical-align: top;\n",
              "    }\n",
              "\n",
              "    .dataframe thead th {\n",
              "        text-align: right;\n",
              "    }\n",
              "</style>\n",
              "<table border=\"1\" class=\"dataframe\">\n",
              "  <thead>\n",
              "    <tr style=\"text-align: right;\">\n",
              "      <th></th>\n",
              "      <th>persona_b</th>\n",
              "      <th>dialogue</th>\n",
              "      <th>reference</th>\n",
              "    </tr>\n",
              "  </thead>\n",
              "  <tbody>\n",
              "    <tr>\n",
              "      <th>0</th>\n",
              "      <td>I would love to try the local food with my friend. i am quiet but confident. I love to watch movies with my dad on a rainy day. i try to limit how much i eat. I just finished practicing my bass guitar in the lifeguard station.</td>\n",
              "      <td>Persona A: Hey there! Persona B: What's your name? Persona A: My name is William. Persona B: Nice to meet you Gavin. What kind of movies do you like to watch? Persona A: I like to watch movies that make me feel something. I like to be able to relate to the characters and feel their emotions. Persona B: I can relate to that. I like to watch movies that make me think about things in a different way. Persona A: That's a good way to put it. I like to be challenged by movies. Persona B: What are some of your favorite movies? Persona A: I have a lot of favorite movies, but some of my favorites include \"The Shawshank Redemption,\" \"The Godfather,\" and \"The Lord of the Rings.\" Persona B: Those are all great movies! I love \"The Shawshank Redemption\" too. It's one of my favorites. Persona A: It's so well-made and has such a great story. I love it when movies can make you feel so many different emotions. Persona B: Me too. I think that's what makes a great movie. Persona A: I agree. So what do you like to do for fun? Persona B: I like to spend time with my family and friends. I also like to read, watch movies, and go to the gym. Persona A: Sounds like you have a lot of interests. I like to spend time with my friends and family too. I also like to play the bass guitar. Persona B: That's cool! I've always wanted to learn how to play the bass guitar. Persona A: No problem! It was nice talking to you.</td>\n",
              "      <td>I might just do that. Thanks for the suggestion!</td>\n",
              "    </tr>\n",
              "    <tr>\n",
              "      <th>1</th>\n",
              "      <td>I am most proud of my ability to connect with nature and animals. I have never been arrested, but my stories might make you think otherwise. i love family time. my parents both are school teachers. I'm afraid of being in a situation where I can't communicate with my wife.</td>\n",
              "      <td>Persona A: I run every morning before work, it helps me to relieve stress. Persona B: I can see how that would help:,I do much hiking and camping; it helps me to clear my heade's up with nature. Persona A: That sounds like a lot of fun and I've always wanted to go camping! Persona B: It is really great and you should definitely try it sometime. Persona A: I will, as to my dogs - it would be lovely. Persona B: I bet he would. Also, we have dogs and his love goes camping with me Persona A: What kind of dog do you have?</td>\n",
              "      <td>I have a Golden Retriever named Buddy.</td>\n",
              "    </tr>\n",
              "    <tr>\n",
              "      <th>2</th>\n",
              "      <td>I enjoy my family and do not care about socializing. i m bored with my current lifestyle. i currently suffer from social anxiety. I exercise three times a week to maintain a healthy lifestyle. I'm looking for a home with a large closet so I can have plenty of space for my sewing supplies.</td>\n",
              "      <td>Persona A: Hey, not too much but I am just working on some pottery. Persona B: That sounds cool - I have never tried pottery before! Persona A: It is really fun! I love to make things with my hands. Persona B: I know what you mean, but it is always fun to sew. Persona A: That's awesome! I used to sew a lot when younger. Persona B: I like to make clothes for my family. Persona A: That is a great hobby Do you sell it? Persona B: No, I do it just for fun. Persona A: That's cool, and I am more into making functional things like bowled vases. Persona B: I have a lot of clothes that my family needs to sew. Persona A: That sounds like a lot of work! Persona B: It is, but I like it. Persona A: I am glad that you are enjoying your hobby! Persona B: Thank you! Persona A: Thats what it says. Persona B: Do you have any other hobbies? Persona A: I like to go out on a social way for eating and hanging with my friends. Persona B: That sounds fun, I'm more of homebody. Persona A: I can be too, but sometimes i like to get out and explore. Persona B: I like to explore new places, but don't always enjoy being around a lot of people. Persona A: I understand that :I like to go places where there aren't as many people.</td>\n",
              "      <td>That's my kind of place!</td>\n",
              "    </tr>\n",
              "    <tr>\n",
              "      <th>3</th>\n",
              "      <td>I will continue to play music with my friends to help relieve stress and enjoy myself. I try to keep in touch with my family, but I can be busy with school and my job. i enjoy cooking but not baking. i can speak arabic , english , and french. My biggest fear is that I will work myself up so much that I will become ill.</td>\n",
              "      <td>Persona A: I'm from Japan, so my plans are moving soon to the US and it is a little nervous but exciting! Persona B: I'm from the US but speak Arabic, English and French. Where are you? Persona A: I want to be a musician, and play drums and love punk rock.I'm going working as doorman in an old club where they play the nightly pop rock Persona B: That is great! What are your dreams? Persona A: Thanks! I am nervous about my family not accepting me if they tell them that to say is gay, but will try and inform them. Persona B: I play music with my friends to help relieve stress and relax, so...I am glad that you are living up the dreams! Persona A: Hope you're right and thanks for meeting me : it is nice to meet!</td>\n",
              "      <td>It was nice to meet you too! Good luck with your move and music career!!</td>\n",
              "    </tr>\n",
              "    <tr>\n",
              "      <th>4</th>\n",
              "      <td>I like to wear the same pants every day so I don't have to think about what to wear. I enjoy helping my community by serving on the city council. i love the rain. I like mangoes because they are sweet and juicy. my favorite basketball team is the vancouver grizzlies.</td>\n",
              "      <td>Persona A: Good morning! Persona B: Good morning! How are you doing today? Persona A: I'm doing well, thank you for asking. Just finished baking a batch of chocolate chip cookies to my family! Persona B: I love Chocolate Chip Cookies. What's your favorite cookie? Persona A: I also like white chocolate macadamian nut cookies. Persona B: Those are delicious! I also like snickerdoodle. Persona A: Snickerdoodles are great, I love the cinnamon flavour. Persona B: I actually love all kinds of cookies too! Persona A:  Same here! They are so tasty and versatile.</td>\n",
              "      <td>What is your favorite thing to do on a rainy day?</td>\n",
              "    </tr>\n",
              "  </tbody>\n",
              "</table>\n",
              "</div>"
            ],
            "text/plain": [
              "                                                                                                                                                                                                                                                                                                                          persona_b  \\\n",
              "0                                                                                                I would love to try the local food with my friend. i am quiet but confident. I love to watch movies with my dad on a rainy day. i try to limit how much i eat. I just finished practicing my bass guitar in the lifeguard station.   \n",
              "1                                                  I am most proud of my ability to connect with nature and animals. I have never been arrested, but my stories might make you think otherwise. i love family time. my parents both are school teachers. I'm afraid of being in a situation where I can't communicate with my wife.   \n",
              "2                                 I enjoy my family and do not care about socializing. i m bored with my current lifestyle. i currently suffer from social anxiety. I exercise three times a week to maintain a healthy lifestyle. I'm looking for a home with a large closet so I can have plenty of space for my sewing supplies.   \n",
              "3  I will continue to play music with my friends to help relieve stress and enjoy myself. I try to keep in touch with my family, but I can be busy with school and my job. i enjoy cooking but not baking. i can speak arabic , english , and french. My biggest fear is that I will work myself up so much that I will become ill.   \n",
              "4                                                       I like to wear the same pants every day so I don't have to think about what to wear. I enjoy helping my community by serving on the city council. i love the rain. I like mangoes because they are sweet and juicy. my favorite basketball team is the vancouver grizzlies.   \n",
              "\n",
              "                                                                                                                                                                                                                                                                                                                                                                                                                                                                                                                                                                                                                                                                                                                                                                                                                                                                                                                                                                                                                                                                                                                                                                                                                                                                                                                                                                                                                                                           dialogue  \\\n",
              "0  Persona A: Hey there! Persona B: What's your name? Persona A: My name is William. Persona B: Nice to meet you Gavin. What kind of movies do you like to watch? Persona A: I like to watch movies that make me feel something. I like to be able to relate to the characters and feel their emotions. Persona B: I can relate to that. I like to watch movies that make me think about things in a different way. Persona A: That's a good way to put it. I like to be challenged by movies. Persona B: What are some of your favorite movies? Persona A: I have a lot of favorite movies, but some of my favorites include \"The Shawshank Redemption,\" \"The Godfather,\" and \"The Lord of the Rings.\" Persona B: Those are all great movies! I love \"The Shawshank Redemption\" too. It's one of my favorites. Persona A: It's so well-made and has such a great story. I love it when movies can make you feel so many different emotions. Persona B: Me too. I think that's what makes a great movie. Persona A: I agree. So what do you like to do for fun? Persona B: I like to spend time with my family and friends. I also like to read, watch movies, and go to the gym. Persona A: Sounds like you have a lot of interests. I like to spend time with my friends and family too. I also like to play the bass guitar. Persona B: That's cool! I've always wanted to learn how to play the bass guitar. Persona A: No problem! It was nice talking to you.   \n",
              "1                                                                                                                                                                                                                                                                                                                                                                                                                                                                                                                                                                                                                                                                                                                                                                                                                                                                                                                        Persona A: I run every morning before work, it helps me to relieve stress. Persona B: I can see how that would help:,I do much hiking and camping; it helps me to clear my heade's up with nature. Persona A: That sounds like a lot of fun and I've always wanted to go camping! Persona B: It is really great and you should definitely try it sometime. Persona A: I will, as to my dogs - it would be lovely. Persona B: I bet he would. Also, we have dogs and his love goes camping with me Persona A: What kind of dog do you have?   \n",
              "2                                                                                                                                                                                                  Persona A: Hey, not too much but I am just working on some pottery. Persona B: That sounds cool - I have never tried pottery before! Persona A: It is really fun! I love to make things with my hands. Persona B: I know what you mean, but it is always fun to sew. Persona A: That's awesome! I used to sew a lot when younger. Persona B: I like to make clothes for my family. Persona A: That is a great hobby Do you sell it? Persona B: No, I do it just for fun. Persona A: That's cool, and I am more into making functional things like bowled vases. Persona B: I have a lot of clothes that my family needs to sew. Persona A: That sounds like a lot of work! Persona B: It is, but I like it. Persona A: I am glad that you are enjoying your hobby! Persona B: Thank you! Persona A: Thats what it says. Persona B: Do you have any other hobbies? Persona A: I like to go out on a social way for eating and hanging with my friends. Persona B: That sounds fun, I'm more of homebody. Persona A: I can be too, but sometimes i like to get out and explore. Persona B: I like to explore new places, but don't always enjoy being around a lot of people. Persona A: I understand that :I like to go places where there aren't as many people.   \n",
              "3                                                                                                                                                                                                                                                                                                                                                                                                                                                                                                                                                                                                                                                                                                                    Persona A: I'm from Japan, so my plans are moving soon to the US and it is a little nervous but exciting! Persona B: I'm from the US but speak Arabic, English and French. Where are you? Persona A: I want to be a musician, and play drums and love punk rock.I'm going working as doorman in an old club where they play the nightly pop rock Persona B: That is great! What are your dreams? Persona A: Thanks! I am nervous about my family not accepting me if they tell them that to say is gay, but will try and inform them. Persona B: I play music with my friends to help relieve stress and relax, so...I am glad that you are living up the dreams! Persona A: Hope you're right and thanks for meeting me : it is nice to meet!   \n",
              "4                                                                                                                                                                                                                                                                                                                                                                                                                                                                                                                                                                                                                                                                                                                                                                                                                                                                                  Persona A: Good morning! Persona B: Good morning! How are you doing today? Persona A: I'm doing well, thank you for asking. Just finished baking a batch of chocolate chip cookies to my family! Persona B: I love Chocolate Chip Cookies. What's your favorite cookie? Persona A: I also like white chocolate macadamian nut cookies. Persona B: Those are delicious! I also like snickerdoodle. Persona A: Snickerdoodles are great, I love the cinnamon flavour. Persona B: I actually love all kinds of cookies too! Persona A:  Same here! They are so tasty and versatile.   \n",
              "\n",
              "                                                                  reference  \n",
              "0                          I might just do that. Thanks for the suggestion!  \n",
              "1                                    I have a Golden Retriever named Buddy.  \n",
              "2                                                  That's my kind of place!  \n",
              "3  It was nice to meet you too! Good luck with your move and music career!!  \n",
              "4                         What is your favorite thing to do on a rainy day?  "
            ]
          },
          "execution_count": 4,
          "metadata": {},
          "output_type": "execute_result"
        }
      ],
      "source": [
        "def convert_list_to_str(list):\n",
        "  para = ' '.join(list)\n",
        "  return para\n",
        "\n",
        "df['persona_b'] = df['persona_b'].apply(convert_list_to_str)\n",
        "df['dialogue'] = df['dialogue'].apply(convert_list_to_str)\n",
        "df.head()"
      ]
    },
    {
      "cell_type": "code",
      "execution_count": 5,
      "metadata": {
        "colab": {
          "base_uri": "https://localhost:8080/",
          "height": 1000
        },
        "id": "Pu20f44F3HMT",
        "outputId": "d81333ee-ab3f-41ab-b7a4-c224bfa72f34"
      },
      "outputs": [
        {
          "data": {
            "text/html": [
              "<div>\n",
              "<style scoped>\n",
              "    .dataframe tbody tr th:only-of-type {\n",
              "        vertical-align: middle;\n",
              "    }\n",
              "\n",
              "    .dataframe tbody tr th {\n",
              "        vertical-align: top;\n",
              "    }\n",
              "\n",
              "    .dataframe thead th {\n",
              "        text-align: right;\n",
              "    }\n",
              "</style>\n",
              "<table border=\"1\" class=\"dataframe\">\n",
              "  <thead>\n",
              "    <tr style=\"text-align: right;\">\n",
              "      <th></th>\n",
              "      <th>persona_b</th>\n",
              "      <th>dialogue</th>\n",
              "      <th>reference</th>\n",
              "      <th>cleaned_dialogues</th>\n",
              "    </tr>\n",
              "  </thead>\n",
              "  <tbody>\n",
              "    <tr>\n",
              "      <th>0</th>\n",
              "      <td>I would love to try the local food with my friend. i am quiet but confident. I love to watch movies with my dad on a rainy day. i try to limit how much i eat. I just finished practicing my bass guitar in the lifeguard station.</td>\n",
              "      <td>Persona A: Hey there! Persona B: What's your name? Persona A: My name is William. Persona B: Nice to meet you Gavin. What kind of movies do you like to watch? Persona A: I like to watch movies that make me feel something. I like to be able to relate to the characters and feel their emotions. Persona B: I can relate to that. I like to watch movies that make me think about things in a different way. Persona A: That's a good way to put it. I like to be challenged by movies. Persona B: What are some of your favorite movies? Persona A: I have a lot of favorite movies, but some of my favorites include \"The Shawshank Redemption,\" \"The Godfather,\" and \"The Lord of the Rings.\" Persona B: Those are all great movies! I love \"The Shawshank Redemption\" too. It's one of my favorites. Persona A: It's so well-made and has such a great story. I love it when movies can make you feel so many different emotions. Persona B: Me too. I think that's what makes a great movie. Persona A: I agree. So what do you like to do for fun? Persona B: I like to spend time with my family and friends. I also like to read, watch movies, and go to the gym. Persona A: Sounds like you have a lot of interests. I like to spend time with my friends and family too. I also like to play the bass guitar. Persona B: That's cool! I've always wanted to learn how to play the bass guitar. Persona A: No problem! It was nice talking to you.</td>\n",
              "      <td>I might just do that. Thanks for the suggestion!</td>\n",
              "      <td>[{'persona': 'Persona A', 'text': 'Hey there! Persona B: What's your name? Persona A: My name is William. Persona B: Nice to meet you Gavin. What kind of movies do you like to watch? Persona A: I like to watch movies that make me feel something. I like to be able to relate to the characters and feel their emotions. Persona B: I can relate to that. I like to watch movies that make me think about things in a different way. Persona A: That's a good way to put it. I like to be challenged by movies. Persona B: What are some of your favorite movies? Persona A: I have a lot of favorite movies'}]</td>\n",
              "    </tr>\n",
              "    <tr>\n",
              "      <th>1</th>\n",
              "      <td>I am most proud of my ability to connect with nature and animals. I have never been arrested, but my stories might make you think otherwise. i love family time. my parents both are school teachers. I'm afraid of being in a situation where I can't communicate with my wife.</td>\n",
              "      <td>Persona A: I run every morning before work, it helps me to relieve stress. Persona B: I can see how that would help:,I do much hiking and camping; it helps me to clear my heade's up with nature. Persona A: That sounds like a lot of fun and I've always wanted to go camping! Persona B: It is really great and you should definitely try it sometime. Persona A: I will, as to my dogs - it would be lovely. Persona B: I bet he would. Also, we have dogs and his love goes camping with me Persona A: What kind of dog do you have?</td>\n",
              "      <td>I have a Golden Retriever named Buddy.</td>\n",
              "      <td>[{'persona': 'Persona A', 'text': 'I run every morning before work'}]</td>\n",
              "    </tr>\n",
              "    <tr>\n",
              "      <th>2</th>\n",
              "      <td>I enjoy my family and do not care about socializing. i m bored with my current lifestyle. i currently suffer from social anxiety. I exercise three times a week to maintain a healthy lifestyle. I'm looking for a home with a large closet so I can have plenty of space for my sewing supplies.</td>\n",
              "      <td>Persona A: Hey, not too much but I am just working on some pottery. Persona B: That sounds cool - I have never tried pottery before! Persona A: It is really fun! I love to make things with my hands. Persona B: I know what you mean, but it is always fun to sew. Persona A: That's awesome! I used to sew a lot when younger. Persona B: I like to make clothes for my family. Persona A: That is a great hobby Do you sell it? Persona B: No, I do it just for fun. Persona A: That's cool, and I am more into making functional things like bowled vases. Persona B: I have a lot of clothes that my family needs to sew. Persona A: That sounds like a lot of work! Persona B: It is, but I like it. Persona A: I am glad that you are enjoying your hobby! Persona B: Thank you! Persona A: Thats what it says. Persona B: Do you have any other hobbies? Persona A: I like to go out on a social way for eating and hanging with my friends. Persona B: That sounds fun, I'm more of homebody. Persona A: I can be too, but sometimes i like to get out and explore. Persona B: I like to explore new places, but don't always enjoy being around a lot of people. Persona A: I understand that :I like to go places where there aren't as many people.</td>\n",
              "      <td>That's my kind of place!</td>\n",
              "      <td>[{'persona': 'Persona A', 'text': 'Hey'}]</td>\n",
              "    </tr>\n",
              "    <tr>\n",
              "      <th>3</th>\n",
              "      <td>I will continue to play music with my friends to help relieve stress and enjoy myself. I try to keep in touch with my family, but I can be busy with school and my job. i enjoy cooking but not baking. i can speak arabic , english , and french. My biggest fear is that I will work myself up so much that I will become ill.</td>\n",
              "      <td>Persona A: I'm from Japan, so my plans are moving soon to the US and it is a little nervous but exciting! Persona B: I'm from the US but speak Arabic, English and French. Where are you? Persona A: I want to be a musician, and play drums and love punk rock.I'm going working as doorman in an old club where they play the nightly pop rock Persona B: That is great! What are your dreams? Persona A: Thanks! I am nervous about my family not accepting me if they tell them that to say is gay, but will try and inform them. Persona B: I play music with my friends to help relieve stress and relax, so...I am glad that you are living up the dreams! Persona A: Hope you're right and thanks for meeting me : it is nice to meet!</td>\n",
              "      <td>It was nice to meet you too! Good luck with your move and music career!!</td>\n",
              "      <td>[{'persona': 'Persona A', 'text': 'I'm from Japan'}]</td>\n",
              "    </tr>\n",
              "    <tr>\n",
              "      <th>4</th>\n",
              "      <td>I like to wear the same pants every day so I don't have to think about what to wear. I enjoy helping my community by serving on the city council. i love the rain. I like mangoes because they are sweet and juicy. my favorite basketball team is the vancouver grizzlies.</td>\n",
              "      <td>Persona A: Good morning! Persona B: Good morning! How are you doing today? Persona A: I'm doing well, thank you for asking. Just finished baking a batch of chocolate chip cookies to my family! Persona B: I love Chocolate Chip Cookies. What's your favorite cookie? Persona A: I also like white chocolate macadamian nut cookies. Persona B: Those are delicious! I also like snickerdoodle. Persona A: Snickerdoodles are great, I love the cinnamon flavour. Persona B: I actually love all kinds of cookies too! Persona A:  Same here! They are so tasty and versatile.</td>\n",
              "      <td>What is your favorite thing to do on a rainy day?</td>\n",
              "      <td>[{'persona': 'Persona A', 'text': 'Good morning! Persona B: Good morning! How are you doing today? Persona A: I'm doing well'}]</td>\n",
              "    </tr>\n",
              "  </tbody>\n",
              "</table>\n",
              "</div>"
            ],
            "text/plain": [
              "                                                                                                                                                                                                                                                                                                                          persona_b  \\\n",
              "0                                                                                                I would love to try the local food with my friend. i am quiet but confident. I love to watch movies with my dad on a rainy day. i try to limit how much i eat. I just finished practicing my bass guitar in the lifeguard station.   \n",
              "1                                                  I am most proud of my ability to connect with nature and animals. I have never been arrested, but my stories might make you think otherwise. i love family time. my parents both are school teachers. I'm afraid of being in a situation where I can't communicate with my wife.   \n",
              "2                                 I enjoy my family and do not care about socializing. i m bored with my current lifestyle. i currently suffer from social anxiety. I exercise three times a week to maintain a healthy lifestyle. I'm looking for a home with a large closet so I can have plenty of space for my sewing supplies.   \n",
              "3  I will continue to play music with my friends to help relieve stress and enjoy myself. I try to keep in touch with my family, but I can be busy with school and my job. i enjoy cooking but not baking. i can speak arabic , english , and french. My biggest fear is that I will work myself up so much that I will become ill.   \n",
              "4                                                       I like to wear the same pants every day so I don't have to think about what to wear. I enjoy helping my community by serving on the city council. i love the rain. I like mangoes because they are sweet and juicy. my favorite basketball team is the vancouver grizzlies.   \n",
              "\n",
              "                                                                                                                                                                                                                                                                                                                                                                                                                                                                                                                                                                                                                                                                                                                                                                                                                                                                                                                                                                                                                                                                                                                                                                                                                                                                                                                                                                                                                                                           dialogue  \\\n",
              "0  Persona A: Hey there! Persona B: What's your name? Persona A: My name is William. Persona B: Nice to meet you Gavin. What kind of movies do you like to watch? Persona A: I like to watch movies that make me feel something. I like to be able to relate to the characters and feel their emotions. Persona B: I can relate to that. I like to watch movies that make me think about things in a different way. Persona A: That's a good way to put it. I like to be challenged by movies. Persona B: What are some of your favorite movies? Persona A: I have a lot of favorite movies, but some of my favorites include \"The Shawshank Redemption,\" \"The Godfather,\" and \"The Lord of the Rings.\" Persona B: Those are all great movies! I love \"The Shawshank Redemption\" too. It's one of my favorites. Persona A: It's so well-made and has such a great story. I love it when movies can make you feel so many different emotions. Persona B: Me too. I think that's what makes a great movie. Persona A: I agree. So what do you like to do for fun? Persona B: I like to spend time with my family and friends. I also like to read, watch movies, and go to the gym. Persona A: Sounds like you have a lot of interests. I like to spend time with my friends and family too. I also like to play the bass guitar. Persona B: That's cool! I've always wanted to learn how to play the bass guitar. Persona A: No problem! It was nice talking to you.   \n",
              "1                                                                                                                                                                                                                                                                                                                                                                                                                                                                                                                                                                                                                                                                                                                                                                                                                                                                                                                        Persona A: I run every morning before work, it helps me to relieve stress. Persona B: I can see how that would help:,I do much hiking and camping; it helps me to clear my heade's up with nature. Persona A: That sounds like a lot of fun and I've always wanted to go camping! Persona B: It is really great and you should definitely try it sometime. Persona A: I will, as to my dogs - it would be lovely. Persona B: I bet he would. Also, we have dogs and his love goes camping with me Persona A: What kind of dog do you have?   \n",
              "2                                                                                                                                                                                                  Persona A: Hey, not too much but I am just working on some pottery. Persona B: That sounds cool - I have never tried pottery before! Persona A: It is really fun! I love to make things with my hands. Persona B: I know what you mean, but it is always fun to sew. Persona A: That's awesome! I used to sew a lot when younger. Persona B: I like to make clothes for my family. Persona A: That is a great hobby Do you sell it? Persona B: No, I do it just for fun. Persona A: That's cool, and I am more into making functional things like bowled vases. Persona B: I have a lot of clothes that my family needs to sew. Persona A: That sounds like a lot of work! Persona B: It is, but I like it. Persona A: I am glad that you are enjoying your hobby! Persona B: Thank you! Persona A: Thats what it says. Persona B: Do you have any other hobbies? Persona A: I like to go out on a social way for eating and hanging with my friends. Persona B: That sounds fun, I'm more of homebody. Persona A: I can be too, but sometimes i like to get out and explore. Persona B: I like to explore new places, but don't always enjoy being around a lot of people. Persona A: I understand that :I like to go places where there aren't as many people.   \n",
              "3                                                                                                                                                                                                                                                                                                                                                                                                                                                                                                                                                                                                                                                                                                                    Persona A: I'm from Japan, so my plans are moving soon to the US and it is a little nervous but exciting! Persona B: I'm from the US but speak Arabic, English and French. Where are you? Persona A: I want to be a musician, and play drums and love punk rock.I'm going working as doorman in an old club where they play the nightly pop rock Persona B: That is great! What are your dreams? Persona A: Thanks! I am nervous about my family not accepting me if they tell them that to say is gay, but will try and inform them. Persona B: I play music with my friends to help relieve stress and relax, so...I am glad that you are living up the dreams! Persona A: Hope you're right and thanks for meeting me : it is nice to meet!   \n",
              "4                                                                                                                                                                                                                                                                                                                                                                                                                                                                                                                                                                                                                                                                                                                                                                                                                                                                                  Persona A: Good morning! Persona B: Good morning! How are you doing today? Persona A: I'm doing well, thank you for asking. Just finished baking a batch of chocolate chip cookies to my family! Persona B: I love Chocolate Chip Cookies. What's your favorite cookie? Persona A: I also like white chocolate macadamian nut cookies. Persona B: Those are delicious! I also like snickerdoodle. Persona A: Snickerdoodles are great, I love the cinnamon flavour. Persona B: I actually love all kinds of cookies too! Persona A:  Same here! They are so tasty and versatile.   \n",
              "\n",
              "                                                                  reference  \\\n",
              "0                          I might just do that. Thanks for the suggestion!   \n",
              "1                                    I have a Golden Retriever named Buddy.   \n",
              "2                                                  That's my kind of place!   \n",
              "3  It was nice to meet you too! Good luck with your move and music career!!   \n",
              "4                         What is your favorite thing to do on a rainy day?   \n",
              "\n",
              "                                                                                                                                                                                                                                                                                                                                                                                                                                                                                                                                                                                                     cleaned_dialogues  \n",
              "0  [{'persona': 'Persona A', 'text': 'Hey there! Persona B: What's your name? Persona A: My name is William. Persona B: Nice to meet you Gavin. What kind of movies do you like to watch? Persona A: I like to watch movies that make me feel something. I like to be able to relate to the characters and feel their emotions. Persona B: I can relate to that. I like to watch movies that make me think about things in a different way. Persona A: That's a good way to put it. I like to be challenged by movies. Persona B: What are some of your favorite movies? Persona A: I have a lot of favorite movies'}]  \n",
              "1                                                                                                                                                                                                                                                                                                                                                                                                                                                                                                                                                [{'persona': 'Persona A', 'text': 'I run every morning before work'}]  \n",
              "2                                                                                                                                                                                                                                                                                                                                                                                                                                                                                                                                                                            [{'persona': 'Persona A', 'text': 'Hey'}]  \n",
              "3                                                                                                                                                                                                                                                                                                                                                                                                                                                                                                                                                                 [{'persona': 'Persona A', 'text': 'I'm from Japan'}]  \n",
              "4                                                                                                                                                                                                                                                                                                                                                                                                                                                                                      [{'persona': 'Persona A', 'text': 'Good morning! Persona B: Good morning! How are you doing today? Persona A: I'm doing well'}]  "
            ]
          },
          "execution_count": 5,
          "metadata": {},
          "output_type": "execute_result"
        }
      ],
      "source": [
        "def clean_dialogue(text):\n",
        "    if isinstance(text, list):  # Join list to a single string if needed\n",
        "        text = \" \".join(text)\n",
        "\n",
        "    # Split dialogue into individual turns\n",
        "    segments = re.split(r\",\\s*\", text)\n",
        "    segments = [seg.strip(\" '\\\"\") for seg in segments if seg]  # Clean each segment\n",
        "\n",
        "    turns = []\n",
        "    for seg in segments:\n",
        "        match = re.match(r\"(Persona A|Persona B):\\s*(.*)\", seg)\n",
        "        if match:\n",
        "            turns.append({\"persona\": match.group(1), \"text\": match.group(2)})\n",
        "    return turns\n",
        "\n",
        "df[\"cleaned_dialogues\"] = df[\"dialogue\"].apply(clean_dialogue)\n",
        "\n",
        "df.head()"
      ]
    },
    {
      "cell_type": "code",
      "execution_count": 6,
      "metadata": {
        "colab": {
          "base_uri": "https://localhost:8080/"
        },
        "id": "xdDdr33z3ywK",
        "outputId": "d3601764-12f5-4be4-8298-f88780531c44"
      },
      "outputs": [
        {
          "data": {
            "text/plain": [
              "(101034, 101034)"
            ]
          },
          "execution_count": 6,
          "metadata": {},
          "output_type": "execute_result"
        }
      ],
      "source": [
        "Dict = {'Input': [], 'Output': []}\n",
        "\n",
        "def make_input_output(text, persona):\n",
        "  input = persona\n",
        "  text = str(text)\n",
        "  b = 0\n",
        "  i = 0\n",
        "  output = \"\"\n",
        "  while i < len(text):\n",
        "    if text[i:i+10] == \"Persona A:\":\n",
        "      i = i + 10\n",
        "      b = 0\n",
        "      if input != persona and output != \"\":\n",
        "        Dict['Input'].append(input)\n",
        "        Dict['Output'].append(output)\n",
        "        output = \"\"\n",
        "        input = persona\n",
        "\n",
        "    if text[i:i+10] == \"Persona B:\":\n",
        "      i = i + 10\n",
        "      b = 1\n",
        "\n",
        "    if b == 0:\n",
        "      input += text[i]\n",
        "      i += 1\n",
        "    else:\n",
        "      output += text[i]\n",
        "      i += 1\n",
        "\n",
        "  if input != persona and output != \"\":\n",
        "    Dict['Input'].append(input)\n",
        "    Dict['Output'].append(output)\n",
        "    output = \"\"\n",
        "    input = persona\n",
        "for index, row in df.iterrows():\n",
        "  make_input_output(row['dialogue'], row['persona_b'])\n",
        "\n",
        "len(Dict['Input']), len(Dict['Output'])"
      ]
    },
    {
      "cell_type": "code",
      "execution_count": 7,
      "metadata": {
        "colab": {
          "base_uri": "https://localhost:8080/",
          "height": 327
        },
        "id": "EBvgtde4ALje",
        "outputId": "da31ee21-95a8-4ff0-a57f-ca70dca7de82"
      },
      "outputs": [
        {
          "data": {
            "text/html": [
              "<div>\n",
              "<style scoped>\n",
              "    .dataframe tbody tr th:only-of-type {\n",
              "        vertical-align: middle;\n",
              "    }\n",
              "\n",
              "    .dataframe tbody tr th {\n",
              "        vertical-align: top;\n",
              "    }\n",
              "\n",
              "    .dataframe thead th {\n",
              "        text-align: right;\n",
              "    }\n",
              "</style>\n",
              "<table border=\"1\" class=\"dataframe\">\n",
              "  <thead>\n",
              "    <tr style=\"text-align: right;\">\n",
              "      <th></th>\n",
              "      <th>Input</th>\n",
              "      <th>Output</th>\n",
              "    </tr>\n",
              "  </thead>\n",
              "  <tbody>\n",
              "    <tr>\n",
              "      <th>0</th>\n",
              "      <td>I would love to try the local food with my friend. i am quiet but confident. I love to watch movies with my dad on a rainy day. i try to limit how much i eat. I just finished practicing my bass guitar in the lifeguard station. Hey there!</td>\n",
              "      <td>What's your name?</td>\n",
              "    </tr>\n",
              "    <tr>\n",
              "      <th>1</th>\n",
              "      <td>I would love to try the local food with my friend. i am quiet but confident. I love to watch movies with my dad on a rainy day. i try to limit how much i eat. I just finished practicing my bass guitar in the lifeguard station. My name is William.</td>\n",
              "      <td>Nice to meet you Gavin. What kind of movies do you like to watch?</td>\n",
              "    </tr>\n",
              "    <tr>\n",
              "      <th>2</th>\n",
              "      <td>I would love to try the local food with my friend. i am quiet but confident. I love to watch movies with my dad on a rainy day. i try to limit how much i eat. I just finished practicing my bass guitar in the lifeguard station. I like to watch movies that make me feel something. I like to be able to relate to the characters and feel their emotions.</td>\n",
              "      <td>I can relate to that. I like to watch movies that make me think about things in a different way.</td>\n",
              "    </tr>\n",
              "    <tr>\n",
              "      <th>3</th>\n",
              "      <td>I would love to try the local food with my friend. i am quiet but confident. I love to watch movies with my dad on a rainy day. i try to limit how much i eat. I just finished practicing my bass guitar in the lifeguard station. That's a good way to put it. I like to be challenged by movies.</td>\n",
              "      <td>What are some of your favorite movies?</td>\n",
              "    </tr>\n",
              "    <tr>\n",
              "      <th>4</th>\n",
              "      <td>I would love to try the local food with my friend. i am quiet but confident. I love to watch movies with my dad on a rainy day. i try to limit how much i eat. I just finished practicing my bass guitar in the lifeguard station. I have a lot of favorite movies, but some of my favorites include \"The Shawshank Redemption,\" \"The Godfather,\" and \"The Lord of the Rings.\"</td>\n",
              "      <td>Those are all great movies! I love \"The Shawshank Redemption\" too. It's one of my favorites.</td>\n",
              "    </tr>\n",
              "  </tbody>\n",
              "</table>\n",
              "</div>"
            ],
            "text/plain": [
              "                                                                                                                                                                                                                                                                                                                                                                             Input  \\\n",
              "0                                                                                                                                   I would love to try the local food with my friend. i am quiet but confident. I love to watch movies with my dad on a rainy day. i try to limit how much i eat. I just finished practicing my bass guitar in the lifeguard station. Hey there!    \n",
              "1                                                                                                                          I would love to try the local food with my friend. i am quiet but confident. I love to watch movies with my dad on a rainy day. i try to limit how much i eat. I just finished practicing my bass guitar in the lifeguard station. My name is William.    \n",
              "2                   I would love to try the local food with my friend. i am quiet but confident. I love to watch movies with my dad on a rainy day. i try to limit how much i eat. I just finished practicing my bass guitar in the lifeguard station. I like to watch movies that make me feel something. I like to be able to relate to the characters and feel their emotions.    \n",
              "3                                                                              I would love to try the local food with my friend. i am quiet but confident. I love to watch movies with my dad on a rainy day. i try to limit how much i eat. I just finished practicing my bass guitar in the lifeguard station. That's a good way to put it. I like to be challenged by movies.    \n",
              "4  I would love to try the local food with my friend. i am quiet but confident. I love to watch movies with my dad on a rainy day. i try to limit how much i eat. I just finished practicing my bass guitar in the lifeguard station. I have a lot of favorite movies, but some of my favorites include \"The Shawshank Redemption,\" \"The Godfather,\" and \"The Lord of the Rings.\"    \n",
              "\n",
              "                                                                                               Output  \n",
              "0                                                                                  What's your name?   \n",
              "1                                  Nice to meet you Gavin. What kind of movies do you like to watch?   \n",
              "2   I can relate to that. I like to watch movies that make me think about things in a different way.   \n",
              "3                                                             What are some of your favorite movies?   \n",
              "4       Those are all great movies! I love \"The Shawshank Redemption\" too. It's one of my favorites.   "
            ]
          },
          "execution_count": 7,
          "metadata": {},
          "output_type": "execute_result"
        }
      ],
      "source": [
        "data = pd.DataFrame(Dict)\n",
        "\n",
        "pd.set_option('display.max_colwidth', None)\n",
        "\n",
        "data.head()"
      ]
    },
    {
      "cell_type": "code",
      "execution_count": 8,
      "metadata": {
        "id": "yr9KXGT7E82F"
      },
      "outputs": [],
      "source": [
        "data.to_csv('output.csv', index=False)"
      ]
    },
    {
      "cell_type": "code",
      "execution_count": null,
      "metadata": {},
      "outputs": [],
      "source": []
    }
  ],
  "metadata": {
    "colab": {
      "provenance": []
    },
    "kernelspec": {
      "display_name": "dsenv",
      "language": "python",
      "name": "python3"
    },
    "language_info": {
      "codemirror_mode": {
        "name": "ipython",
        "version": 3
      },
      "file_extension": ".py",
      "mimetype": "text/x-python",
      "name": "python",
      "nbconvert_exporter": "python",
      "pygments_lexer": "ipython3",
      "version": "3.10.13"
    }
  },
  "nbformat": 4,
  "nbformat_minor": 0
}
